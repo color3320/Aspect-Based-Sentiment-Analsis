{
 "cells": [
  {
   "cell_type": "code",
   "execution_count": 1,
   "id": "6ee921f8",
   "metadata": {},
   "outputs": [],
   "source": [
    "import numpy as np\n",
    "import pandas as pd\n",
    "import matplotlib.pyplot as plt\n",
    "\n",
    "import tensorflow as tf\n",
    "import vaderSentiment\n",
    "from vaderSentiment.vaderSentiment import SentimentIntensityAnalyzer\n",
    "import nltk\n",
    "from nltk.probability import FreqDist"
   ]
  },
  {
   "cell_type": "code",
   "execution_count": 2,
   "id": "d649c9a3",
   "metadata": {},
   "outputs": [
    {
     "data": {
      "text/html": [
       "<div>\n",
       "<style scoped>\n",
       "    .dataframe tbody tr th:only-of-type {\n",
       "        vertical-align: middle;\n",
       "    }\n",
       "\n",
       "    .dataframe tbody tr th {\n",
       "        vertical-align: top;\n",
       "    }\n",
       "\n",
       "    .dataframe thead th {\n",
       "        text-align: right;\n",
       "    }\n",
       "</style>\n",
       "<table border=\"1\" class=\"dataframe\">\n",
       "  <thead>\n",
       "    <tr style=\"text-align: right;\">\n",
       "      <th></th>\n",
       "      <th>Review</th>\n",
       "      <th>Rating</th>\n",
       "    </tr>\n",
       "  </thead>\n",
       "  <tbody>\n",
       "    <tr>\n",
       "      <th>0</th>\n",
       "      <td>nice hotel expensive parking got good deal stay hotel anniversary, arrived late evening took advice previous reviews did valet parking, check quick easy, little disappointed non-existent view room room clean nice size, bed comfortable woke stiff neck high pillows, not soundproof like heard music room night morning loud bangs doors opening closing hear people talking hallway, maybe just noisy neighbors, aveda bath products nice, did not goldfish stay nice touch taken advantage staying longer, location great walking distance shopping, overall nice experience having pay 40 parking night,</td>\n",
       "      <td>4</td>\n",
       "    </tr>\n",
       "    <tr>\n",
       "      <th>1</th>\n",
       "      <td>ok nothing special charge diamond member hilton decided chain shot 20th anniversary seattle, start booked suite paid extra website description not, suite bedroom bathroom standard hotel room, took printed reservation desk showed said things like tv couch ect desk clerk told oh mixed suites description kimpton website sorry free breakfast, got kidding, embassy suits sitting room bathroom bedroom unlike kimpton calls suite, 5 day stay offer correct false advertising, send kimpton preferred guest website email asking failure provide suite advertised website reservation description furnished hard copy reservation printout website desk manager duty did not reply solution, send email trip guest survey did not follow email mail, guess tell concerned guest.the staff ranged indifferent not helpful, asked desk good breakfast spots neighborhood hood told no hotels, gee best breakfast spots seattle 1/2 block away convenient hotel does not know exist, arrived late night 11 pm inside run bellman busy chating cell phone help bags.prior arrival emailed hotel inform 20th anniversary half really picky wanted make sure good, got nice email saying like deliver bottle champagne chocolate covered strawberries room arrival celebrate, told needed foam pillows, arrival no champagne strawberries no foam pillows great room view alley high rise building good not better housekeeping staff cleaner room property, impressed left morning shopping room got short trips 2 hours, beds comfortable.not good ac-heat control 4 x 4 inch screen bring green shine directly eyes night, light sensitive tape controls.this not 4 start hotel clean business hotel super high rates, better chain hotels seattle,</td>\n",
       "      <td>2</td>\n",
       "    </tr>\n",
       "  </tbody>\n",
       "</table>\n",
       "</div>"
      ],
      "text/plain": [
       "                                                                                                                                                                                                                                                                                                                                                                                                                                                                                                                                                                                                                                                                                                                                                                                                                                                                                                                                                                                                                                                                                                                                                                                                                                                                                                                                                                                                                                                                                                                                                                                                                                                                                                                                                      Review  \\\n",
       "0                                                                                                                                                                                                                                                                                                                                                                                                                                                                                                                                                                                                                                                                                                                                                                                                                                                                                                                                                                                                                                                                                                                                          nice hotel expensive parking got good deal stay hotel anniversary, arrived late evening took advice previous reviews did valet parking, check quick easy, little disappointed non-existent view room room clean nice size, bed comfortable woke stiff neck high pillows, not soundproof like heard music room night morning loud bangs doors opening closing hear people talking hallway, maybe just noisy neighbors, aveda bath products nice, did not goldfish stay nice touch taken advantage staying longer, location great walking distance shopping, overall nice experience having pay 40 parking night,     \n",
       "1  ok nothing special charge diamond member hilton decided chain shot 20th anniversary seattle, start booked suite paid extra website description not, suite bedroom bathroom standard hotel room, took printed reservation desk showed said things like tv couch ect desk clerk told oh mixed suites description kimpton website sorry free breakfast, got kidding, embassy suits sitting room bathroom bedroom unlike kimpton calls suite, 5 day stay offer correct false advertising, send kimpton preferred guest website email asking failure provide suite advertised website reservation description furnished hard copy reservation printout website desk manager duty did not reply solution, send email trip guest survey did not follow email mail, guess tell concerned guest.the staff ranged indifferent not helpful, asked desk good breakfast spots neighborhood hood told no hotels, gee best breakfast spots seattle 1/2 block away convenient hotel does not know exist, arrived late night 11 pm inside run bellman busy chating cell phone help bags.prior arrival emailed hotel inform 20th anniversary half really picky wanted make sure good, got nice email saying like deliver bottle champagne chocolate covered strawberries room arrival celebrate, told needed foam pillows, arrival no champagne strawberries no foam pillows great room view alley high rise building good not better housekeeping staff cleaner room property, impressed left morning shopping room got short trips 2 hours, beds comfortable.not good ac-heat control 4 x 4 inch screen bring green shine directly eyes night, light sensitive tape controls.this not 4 start hotel clean business hotel super high rates, better chain hotels seattle,     \n",
       "\n",
       "   Rating  \n",
       "0       4  \n",
       "1       2  "
      ]
     },
     "execution_count": 2,
     "metadata": {},
     "output_type": "execute_result"
    }
   ],
   "source": [
    "data = pd.read_csv(r\"C:\\Users\\coloR_\\Desktop\\tripadvisor_hotel_reviews.csv\")\n",
    "pd.options.mode.chained_assignment = None\n",
    "pd.set_option(\"display.max_colwidth\", None)\n",
    "data.head(2)"
   ]
  },
  {
   "cell_type": "code",
   "execution_count": 3,
   "id": "d0627079",
   "metadata": {},
   "outputs": [],
   "source": [
    "import string\n",
    "string.punctuation\n",
    "pd.options.mode.chained_assignment = None"
   ]
  },
  {
   "cell_type": "markdown",
   "id": "09e5af69",
   "metadata": {},
   "source": [
    "Expanding Contractions \n",
    "i.e. it's to it is, don't to do not"
   ]
  },
  {
   "cell_type": "code",
   "execution_count": 4,
   "id": "aee88ab9",
   "metadata": {},
   "outputs": [],
   "source": [
    "#pip install py contractions"
   ]
  },
  {
   "cell_type": "code",
   "execution_count": 5,
   "id": "c511b1fc",
   "metadata": {},
   "outputs": [
    {
     "data": {
      "text/html": [
       "<div>\n",
       "<style scoped>\n",
       "    .dataframe tbody tr th:only-of-type {\n",
       "        vertical-align: middle;\n",
       "    }\n",
       "\n",
       "    .dataframe tbody tr th {\n",
       "        vertical-align: top;\n",
       "    }\n",
       "\n",
       "    .dataframe thead th {\n",
       "        text-align: right;\n",
       "    }\n",
       "</style>\n",
       "<table border=\"1\" class=\"dataframe\">\n",
       "  <thead>\n",
       "    <tr style=\"text-align: right;\">\n",
       "      <th></th>\n",
       "      <th>Review</th>\n",
       "      <th>Rating</th>\n",
       "      <th>text_with_no_contract</th>\n",
       "      <th>Reviews</th>\n",
       "    </tr>\n",
       "  </thead>\n",
       "  <tbody>\n",
       "    <tr>\n",
       "      <th>0</th>\n",
       "      <td>nice hotel expensive parking got good deal stay hotel anniversary, arrived late evening took advice previous reviews did valet parking, check quick easy, little disappointed non-existent view room room clean nice size, bed comfortable woke stiff neck high pillows, not soundproof like heard music room night morning loud bangs doors opening closing hear people talking hallway, maybe just noisy neighbors, aveda bath products nice, did not goldfish stay nice touch taken advantage staying longer, location great walking distance shopping, overall nice experience having pay 40 parking night,</td>\n",
       "      <td>4</td>\n",
       "      <td>[nice, hotel, expensive, parking, got, good, deal, stay, hotel, anniversary,, arrived, late, evening, took, advice, previous, reviews, did, valet, parking,, check, quick, easy,, little, disappointed, non-existent, view, room, room, clean, nice, size,, bed, comfortable, woke, stiff, neck, high, pillows,, not, soundproof, like, heard, music, room, night, morning, loud, bangs, doors, opening, closing, hear, people, talking, hallway,, maybe, just, noisy, neighbors,, aveda, bath, products, nice,, did, not, goldfish, stay, nice, touch, taken, advantage, staying, longer,, location, great, walking, distance, shopping,, overall, nice, experience, having, pay, 40, parking, night,]</td>\n",
       "      <td>nice hotel expensive parking got good deal stay hotel anniversary, arrived late evening took advice previous reviews did valet parking, check quick easy, little disappointed non-existent view room room clean nice size, bed comfortable woke stiff neck high pillows, not soundproof like heard music room night morning loud bangs doors opening closing hear people talking hallway, maybe just noisy neighbors, aveda bath products nice, did not goldfish stay nice touch taken advantage staying longer, location great walking distance shopping, overall nice experience having pay 40 parking night,</td>\n",
       "    </tr>\n",
       "    <tr>\n",
       "      <th>1</th>\n",
       "      <td>ok nothing special charge diamond member hilton decided chain shot 20th anniversary seattle, start booked suite paid extra website description not, suite bedroom bathroom standard hotel room, took printed reservation desk showed said things like tv couch ect desk clerk told oh mixed suites description kimpton website sorry free breakfast, got kidding, embassy suits sitting room bathroom bedroom unlike kimpton calls suite, 5 day stay offer correct false advertising, send kimpton preferred guest website email asking failure provide suite advertised website reservation description furnished hard copy reservation printout website desk manager duty did not reply solution, send email trip guest survey did not follow email mail, guess tell concerned guest.the staff ranged indifferent not helpful, asked desk good breakfast spots neighborhood hood told no hotels, gee best breakfast spots seattle 1/2 block away convenient hotel does not know exist, arrived late night 11 pm inside run bellman busy chating cell phone help bags.prior arrival emailed hotel inform 20th anniversary half really picky wanted make sure good, got nice email saying like deliver bottle champagne chocolate covered strawberries room arrival celebrate, told needed foam pillows, arrival no champagne strawberries no foam pillows great room view alley high rise building good not better housekeeping staff cleaner room property, impressed left morning shopping room got short trips 2 hours, beds comfortable.not good ac-heat control 4 x 4 inch screen bring green shine directly eyes night, light sensitive tape controls.this not 4 start hotel clean business hotel super high rates, better chain hotels seattle,</td>\n",
       "      <td>2</td>\n",
       "      <td>[ok, nothing, special, charge, diamond, member, hilton, decided, chain, shot, 20th, anniversary, seattle,, start, booked, suite, paid, extra, website, description, not,, suite, bedroom, bathroom, standard, hotel, room,, took, printed, reservation, desk, showed, said, things, like, tv, couch, ect, desk, clerk, told, oh, mixed, suites, description, kimpton, website, sorry, free, breakfast,, got, kidding,, embassy, suits, sitting, room, bathroom, bedroom, unlike, kimpton, calls, suite,, 5, day, stay, offer, correct, false, advertising,, send, kimpton, preferred, guest, website, email, asking, failure, provide, suite, advertised, website, reservation, description, furnished, hard, copy, reservation, printout, website, desk, manager, duty, did, not, reply, solution,, send, email, trip, guest, ...]</td>\n",
       "      <td>ok nothing special charge diamond member hilton decided chain shot 20th anniversary seattle, start booked suite paid extra website description not, suite bedroom bathroom standard hotel room, took printed reservation desk showed said things like tv couch ect desk clerk told oh mixed suites description kimpton website sorry free breakfast, got kidding, embassy suits sitting room bathroom bedroom unlike kimpton calls suite, 5 day stay offer correct false advertising, send kimpton preferred guest website email asking failure provide suite advertised website reservation description furnished hard copy reservation printout website desk manager duty did not reply solution, send email trip guest survey did not follow email mail, guess tell concerned guest.the staff ranged indifferent not helpful, asked desk good breakfast spots neighborhood hood told no hotels, gee best breakfast spots seattle 1/2 block away convenient hotel does not know exist, arrived late night 11 pm inside run bellman busy chating cell phone help bags.prior arrival emailed hotel inform 20th anniversary half really picky wanted make sure good, got nice email saying like deliver bottle champagne chocolate covered strawberries room arrival celebrate, told needed foam pillows, arrival no champagne strawberries no foam pillows great room view alley high rise building good not better housekeeping staff cleaner room property, impressed left morning shopping room got short trips 2 hours, beds comfortable.not good ac-heat control 4 x 4 inch screen bring green shine directly eyes night, light sensitive tape controls.this not 4 start hotel clean business hotel super high rates, better chain hotels seattle,</td>\n",
       "    </tr>\n",
       "  </tbody>\n",
       "</table>\n",
       "</div>"
      ],
      "text/plain": [
       "                                                                                                                                                                                                                                                                                                                                                                                                                                                                                                                                                                                                                                                                                                                                                                                                                                                                                                                                                                                                                                                                                                                                                                                                                                                                                                                                                                                                                                                                                                                                                                                                                                                                                                                                                      Review  \\\n",
       "0                                                                                                                                                                                                                                                                                                                                                                                                                                                                                                                                                                                                                                                                                                                                                                                                                                                                                                                                                                                                                                                                                                                                          nice hotel expensive parking got good deal stay hotel anniversary, arrived late evening took advice previous reviews did valet parking, check quick easy, little disappointed non-existent view room room clean nice size, bed comfortable woke stiff neck high pillows, not soundproof like heard music room night morning loud bangs doors opening closing hear people talking hallway, maybe just noisy neighbors, aveda bath products nice, did not goldfish stay nice touch taken advantage staying longer, location great walking distance shopping, overall nice experience having pay 40 parking night,     \n",
       "1  ok nothing special charge diamond member hilton decided chain shot 20th anniversary seattle, start booked suite paid extra website description not, suite bedroom bathroom standard hotel room, took printed reservation desk showed said things like tv couch ect desk clerk told oh mixed suites description kimpton website sorry free breakfast, got kidding, embassy suits sitting room bathroom bedroom unlike kimpton calls suite, 5 day stay offer correct false advertising, send kimpton preferred guest website email asking failure provide suite advertised website reservation description furnished hard copy reservation printout website desk manager duty did not reply solution, send email trip guest survey did not follow email mail, guess tell concerned guest.the staff ranged indifferent not helpful, asked desk good breakfast spots neighborhood hood told no hotels, gee best breakfast spots seattle 1/2 block away convenient hotel does not know exist, arrived late night 11 pm inside run bellman busy chating cell phone help bags.prior arrival emailed hotel inform 20th anniversary half really picky wanted make sure good, got nice email saying like deliver bottle champagne chocolate covered strawberries room arrival celebrate, told needed foam pillows, arrival no champagne strawberries no foam pillows great room view alley high rise building good not better housekeeping staff cleaner room property, impressed left morning shopping room got short trips 2 hours, beds comfortable.not good ac-heat control 4 x 4 inch screen bring green shine directly eyes night, light sensitive tape controls.this not 4 start hotel clean business hotel super high rates, better chain hotels seattle,     \n",
       "\n",
       "   Rating  \\\n",
       "0       4   \n",
       "1       2   \n",
       "\n",
       "                                                                                                                                                                                                                                                                                                                                                                                                                                                                                                                                                                                                                                                                                                                                                                                                                 text_with_no_contract  \\\n",
       "0                                                                                                                              [nice, hotel, expensive, parking, got, good, deal, stay, hotel, anniversary,, arrived, late, evening, took, advice, previous, reviews, did, valet, parking,, check, quick, easy,, little, disappointed, non-existent, view, room, room, clean, nice, size,, bed, comfortable, woke, stiff, neck, high, pillows,, not, soundproof, like, heard, music, room, night, morning, loud, bangs, doors, opening, closing, hear, people, talking, hallway,, maybe, just, noisy, neighbors,, aveda, bath, products, nice,, did, not, goldfish, stay, nice, touch, taken, advantage, staying, longer,, location, great, walking, distance, shopping,, overall, nice, experience, having, pay, 40, parking, night,]   \n",
       "1  [ok, nothing, special, charge, diamond, member, hilton, decided, chain, shot, 20th, anniversary, seattle,, start, booked, suite, paid, extra, website, description, not,, suite, bedroom, bathroom, standard, hotel, room,, took, printed, reservation, desk, showed, said, things, like, tv, couch, ect, desk, clerk, told, oh, mixed, suites, description, kimpton, website, sorry, free, breakfast,, got, kidding,, embassy, suits, sitting, room, bathroom, bedroom, unlike, kimpton, calls, suite,, 5, day, stay, offer, correct, false, advertising,, send, kimpton, preferred, guest, website, email, asking, failure, provide, suite, advertised, website, reservation, description, furnished, hard, copy, reservation, printout, website, desk, manager, duty, did, not, reply, solution,, send, email, trip, guest, ...]   \n",
       "\n",
       "                                                                                                                                                                                                                                                                                                                                                                                                                                                                                                                                                                                                                                                                                                                                                                                                                                                                                                                                                                                                                                                                                                                                                                                                                                                                                                                                                                                                                                                                                                                                                                                                                                                                                                                                                   Reviews  \n",
       "0                                                                                                                                                                                                                                                                                                                                                                                                                                                                                                                                                                                                                                                                                                                                                                                                                                                                                                                                                                                                                                                                                                                                          nice hotel expensive parking got good deal stay hotel anniversary, arrived late evening took advice previous reviews did valet parking, check quick easy, little disappointed non-existent view room room clean nice size, bed comfortable woke stiff neck high pillows, not soundproof like heard music room night morning loud bangs doors opening closing hear people talking hallway, maybe just noisy neighbors, aveda bath products nice, did not goldfish stay nice touch taken advantage staying longer, location great walking distance shopping, overall nice experience having pay 40 parking night,  \n",
       "1  ok nothing special charge diamond member hilton decided chain shot 20th anniversary seattle, start booked suite paid extra website description not, suite bedroom bathroom standard hotel room, took printed reservation desk showed said things like tv couch ect desk clerk told oh mixed suites description kimpton website sorry free breakfast, got kidding, embassy suits sitting room bathroom bedroom unlike kimpton calls suite, 5 day stay offer correct false advertising, send kimpton preferred guest website email asking failure provide suite advertised website reservation description furnished hard copy reservation printout website desk manager duty did not reply solution, send email trip guest survey did not follow email mail, guess tell concerned guest.the staff ranged indifferent not helpful, asked desk good breakfast spots neighborhood hood told no hotels, gee best breakfast spots seattle 1/2 block away convenient hotel does not know exist, arrived late night 11 pm inside run bellman busy chating cell phone help bags.prior arrival emailed hotel inform 20th anniversary half really picky wanted make sure good, got nice email saying like deliver bottle champagne chocolate covered strawberries room arrival celebrate, told needed foam pillows, arrival no champagne strawberries no foam pillows great room view alley high rise building good not better housekeeping staff cleaner room property, impressed left morning shopping room got short trips 2 hours, beds comfortable.not good ac-heat control 4 x 4 inch screen bring green shine directly eyes night, light sensitive tape controls.this not 4 start hotel clean business hotel super high rates, better chain hotels seattle,  "
      ]
     },
     "execution_count": 5,
     "metadata": {},
     "output_type": "execute_result"
    }
   ],
   "source": [
    "import contractions\n",
    "data['text_with_no_contract'] = data['Review'].apply(lambda x: [contractions.fix(word) for word in x.split()])\n",
    "data['Reviews'] = [' '.join(map(str, l)) for l in data['text_with_no_contract']]\n",
    "data.head(2)"
   ]
  },
  {
   "cell_type": "code",
   "execution_count": 6,
   "id": "25292f65",
   "metadata": {},
   "outputs": [
    {
     "data": {
      "text/plain": [
       "Index(['Review', 'Rating', 'text_with_no_contract', 'Reviews'], dtype='object')"
      ]
     },
     "execution_count": 6,
     "metadata": {},
     "output_type": "execute_result"
    }
   ],
   "source": [
    "data.columns"
   ]
  },
  {
   "cell_type": "code",
   "execution_count": 7,
   "id": "8d411daf",
   "metadata": {},
   "outputs": [],
   "source": [
    "data.drop(['Review', 'text_with_no_contract'],axis= 1,inplace = True)"
   ]
  },
  {
   "cell_type": "code",
   "execution_count": 8,
   "id": "373ff6e4",
   "metadata": {
    "scrolled": true
   },
   "outputs": [
    {
     "data": {
      "text/html": [
       "<div>\n",
       "<style scoped>\n",
       "    .dataframe tbody tr th:only-of-type {\n",
       "        vertical-align: middle;\n",
       "    }\n",
       "\n",
       "    .dataframe tbody tr th {\n",
       "        vertical-align: top;\n",
       "    }\n",
       "\n",
       "    .dataframe thead th {\n",
       "        text-align: right;\n",
       "    }\n",
       "</style>\n",
       "<table border=\"1\" class=\"dataframe\">\n",
       "  <thead>\n",
       "    <tr style=\"text-align: right;\">\n",
       "      <th></th>\n",
       "      <th>Rating</th>\n",
       "      <th>Reviews</th>\n",
       "    </tr>\n",
       "  </thead>\n",
       "  <tbody>\n",
       "    <tr>\n",
       "      <th>0</th>\n",
       "      <td>4</td>\n",
       "      <td>nice hotel expensive parking got good deal stay hotel anniversary, arrived late evening took advice previous reviews did valet parking, check quick easy, little disappointed non-existent view room room clean nice size, bed comfortable woke stiff neck high pillows, not soundproof like heard music room night morning loud bangs doors opening closing hear people talking hallway, maybe just noisy neighbors, aveda bath products nice, did not goldfish stay nice touch taken advantage staying longer, location great walking distance shopping, overall nice experience having pay 40 parking night,</td>\n",
       "    </tr>\n",
       "    <tr>\n",
       "      <th>1</th>\n",
       "      <td>2</td>\n",
       "      <td>ok nothing special charge diamond member hilton decided chain shot 20th anniversary seattle, start booked suite paid extra website description not, suite bedroom bathroom standard hotel room, took printed reservation desk showed said things like tv couch ect desk clerk told oh mixed suites description kimpton website sorry free breakfast, got kidding, embassy suits sitting room bathroom bedroom unlike kimpton calls suite, 5 day stay offer correct false advertising, send kimpton preferred guest website email asking failure provide suite advertised website reservation description furnished hard copy reservation printout website desk manager duty did not reply solution, send email trip guest survey did not follow email mail, guess tell concerned guest.the staff ranged indifferent not helpful, asked desk good breakfast spots neighborhood hood told no hotels, gee best breakfast spots seattle 1/2 block away convenient hotel does not know exist, arrived late night 11 pm inside run bellman busy chating cell phone help bags.prior arrival emailed hotel inform 20th anniversary half really picky wanted make sure good, got nice email saying like deliver bottle champagne chocolate covered strawberries room arrival celebrate, told needed foam pillows, arrival no champagne strawberries no foam pillows great room view alley high rise building good not better housekeeping staff cleaner room property, impressed left morning shopping room got short trips 2 hours, beds comfortable.not good ac-heat control 4 x 4 inch screen bring green shine directly eyes night, light sensitive tape controls.this not 4 start hotel clean business hotel super high rates, better chain hotels seattle,</td>\n",
       "    </tr>\n",
       "    <tr>\n",
       "      <th>2</th>\n",
       "      <td>3</td>\n",
       "      <td>nice rooms not 4* experience hotel monaco seattle good hotel n't 4* level.positives large bathroom mediterranean suite comfortable bed pillowsattentive housekeeping staffnegatives ac unit malfunctioned stay desk disorganized, missed 3 separate wakeup calls, concierge busy hard touch, did n't provide guidance special requests.tv hard use ipod sound dock suite non functioning. decided book mediterranean suite 3 night weekend stay 1st choice rest party filled, comparison w spent 45 night larger square footage room great soaking tub whirlpool jets nice shower.before stay hotel arrange car service price 53 tip reasonable driver waiting arrival.checkin easy downside room picked 2 person jacuzi tub no bath accessories salts bubble bath did n't stay, night got 12/1a checked voucher bottle champagne nice gesture fish waiting room, impression room huge open space felt room big, tv far away bed chore change channel, ipod dock broken disappointing.in morning way asked desk check thermostat said 65f 74 2 degrees warm try cover face night bright blue light kept, got room night no, 1st drop desk, called maintainence came look thermostat told play settings happy digital box wo n't work, asked wakeup 10am morning did n't happen, called later 6pm nap wakeup forgot, 10am wakeup morning yep forgotten.the bathroom facilities great room surprised room sold whirlpool bath tub n't bath amenities, great relax water jets going,</td>\n",
       "    </tr>\n",
       "    <tr>\n",
       "      <th>3</th>\n",
       "      <td>5</td>\n",
       "      <td>unique, great stay, wonderful time hotel monaco, location excellent short stroll main downtown shopping area, pet friendly room showed no signs animal hair smells, monaco suite sleeping area big striped curtains pulled closed nice touch felt cosy, goldfish named brandi enjoyed, did n't partake free wine coffee/tea service lobby thought great feature, great staff friendly, free wireless internet hotel worked suite 2 laptops, decor lovely eclectic mix pattens color palatte, animal print bathrobes feel like rock stars, nice did n't look like sterile chain hotel hotel personality excellent stay,</td>\n",
       "    </tr>\n",
       "    <tr>\n",
       "      <th>4</th>\n",
       "      <td>5</td>\n",
       "      <td>great stay great stay, went seahawk game awesome, downfall view building did n't complain, room huge staff helpful, booked hotels website seahawk package, no charge parking got voucher taxi, problem taxi driver did n't want accept voucher barely spoke english, funny thing speak arabic called started making comments girlfriend cell phone buddy, took second realize just said fact speak language face priceless, ass told, said large city, told head doorman issue called cab company promply answer did n't, apologized offered pay taxi, bucks 2 miles stadium, game plan taxi return going humpin, great walk did n't mind, right christmas wonderful lights, homeless stowed away building entrances leave, police presence not greatest area stadium, activities 7 blocks pike street waterfront great coffee shops way, hotel mantained foyer awesome, wine tasting available evening, best dog, taking st. bernard time family, safes hotel located service desk room, bathroom huge jetted tub huge, funny house keeping walked girlfriend getting dressed, did n't hear knock doing turn service, screamed girlfriend screams hit floor laughing, started talking spanish worked, place recommend price, check online deals just good not better, besite contains deals vouchers travel websites n't tell,</td>\n",
       "    </tr>\n",
       "    <tr>\n",
       "      <th>...</th>\n",
       "      <td>...</td>\n",
       "      <td>...</td>\n",
       "    </tr>\n",
       "    <tr>\n",
       "      <th>20486</th>\n",
       "      <td>5</td>\n",
       "      <td>best kept secret 3rd time staying charm, not 5-star ca n't beat, time stayed increased esteem, bw caters business crowd stayed leisure usually weekend, rate perfect, clean green request available drop-dead view space needle practically street, ask check-in make sure, mere walk belltown 5 short blocks choices restaurants wine spirits bars younger folks clubs live music pubs jazz clubs weather permits nice hoof pike, n't usual bw complimentary continental breakfast buffet b/c rates lower splurge breakfast room service, parking free lower locked parking cameras felt cool leaving shopping finds great shopping city discretely tucked away suv, check money not long best kept secret status longer, kudos staff management property,</td>\n",
       "    </tr>\n",
       "    <tr>\n",
       "      <th>20487</th>\n",
       "      <td>4</td>\n",
       "      <td>great location price view hotel great quick place sights.directly street space needle downtown tram science center downtown mall.amenities nice indoor pool kids secure underground parking garage great restaurant.rooms great size couples families.recommend hotel visiting like tostay downtown near sights,</td>\n",
       "    </tr>\n",
       "    <tr>\n",
       "      <th>20488</th>\n",
       "      <td>2</td>\n",
       "      <td>ok just looks nice modern outside, desk staff n't particularly friendly, corridors dark smelt steam cleaned carpet maybe good thing, hotel right space needle thrilling pulled mins walk away, unfortunately room rear view buildings parking lot, rooms space needle view.there no hotel laundry suprising larger hotel.hotel restaurant mistakes menu ordering new guy think numerous items left tray room service breakfast, phone promptly delivered,</td>\n",
       "    </tr>\n",
       "    <tr>\n",
       "      <th>20489</th>\n",
       "      <td>1</td>\n",
       "      <td>hotel theft ruined vacation hotel opened sept 17 2007 guests week, happy stumble scouting hotels apt stay booked gobcn- commented post unexpectedly cancelled arrival stuck place stay la merce festival barcelona biggest year, like trying hotel times square new year eve, vacancies hotel 1. new 2. not ready guests, new, hotel towels straight factory not washed pilling shower, not ready, entire week sept 21 28 slept proper blanket comforter n't arrived, got chilly night gave fleece throw supplied sister hotel ciutat barcelona hotel lime green colour scheme red black white spare cold, drawback double beds singles adjoined n't bothered hotels linens separately fish sheets order sleep couple fall lie middle, beds hard firm so-so quality foam pillows, best qualities hotel location close las ramblas hear street noise somewhat walkable attractions bari gottic, designed clean stylish hotel not clean 10 rooms construction things like cement drippings not scraped linoleum floor room etc., importantly room safe not securely bolted floor.i travel cash coming korea unfavorable exchange rate preferred not use canadian visa card unsure korean credit cards work overseas turns did husband did n't, carried moneybelt time life like heard barcelona petty theft problems witnessing mass humanity las ramblas wallet separated person blink eye, saw hotel safe stored money explicitly advised hotel security briefing form given guests check-in use hotel safe not leave valuable objects large cash room, no central safe reception meant use safe room, day stay discovered contents hotel room safe missing, n't open lock code n't working, receptionist came master code unlocked safe gone, 1,700 euros husband passport missing, incredibly shocked shaken, hours police report investigation staff fingerprinted room brushed fingerprints, later discovered guest fake belgian passport invalid credit card adjoining room broken terrace not room room room steal bag day prior, came room unbolted shelving safe bolted dragged shelf safe room dragged shelf safe, switched safes, used rolling carry-on bag stole room carry safe, talk ingenious crime.we suffered not theft aftermath primarily dealing hotel manager manages ciutat barcelona hotel not elusive refused meet person accessible telephone staff evasive compensated, end says expedited insurance process euros returned finally day departure barcelona going venice weekend waiting usually 2 month-long process grateful not compensate costs recovering passport husband nationality korean going consulate barcelona discover honorary does n't issue passports informed embassy madrid new temporary passport traveled madrid train day 9 hour+ return trip wasted day insurance cover stolen money said.after theft shaken no energy appetite tour sights wanted gaudi buildings park guell forever teenager planned months trip husband week year notoriously short korean vacations managed link weekends time vacation time particularly precious squeezed day, belongings felt secure hotel thereafter.they gave cheque compensating lost euros signing document spanish indemnified claims, did n't want sign document said n't cheque, needed cash point basically blackmailed signing document.to add insult injury checking informed hotel payable robbery thing hotel, balked offered 25 reduction, refused threatened police not paying hotel, unbelievable, think hotel extremely apologetic offer no charge stay night 3 days trip absolutely ruined, told gladly paid entirety hotel trip went just planned incident caused hotel negligence lack security flimsy locks not checking guests properly not informing guests room theft completely marred stay barcelona, said pay room theft occurred compensated costs recovering husband passport, reiterated insurance covered lost money n't true usually insurance cover entire contents no, guests stolen bag surely receive reimbursement insurance company, plan pursue hotel wonder vain real stickler did n't responsibility liability n't fault guest, unlucky., end plane catch paid nights robbery gladly left hotel.incredibly attests petty crime problem barcelona absolutely beautiful city hotel guest room got bag stolen restaurant chair eating dinner, shaken accompanied police station file report, returned hotel n't fixed phone connection needed contact family boyfriend germany appeared unsympathetic, problems wi-fi connection, theft staff fine save manager professional apologetic theft, manager offered weakest apology night occured hard-line meant lot met face face, minimum heartfelt apology opinion.in mossos d'esquadra barcelona police young undercover vigilant excellent thorough impressive, got story theft bit bit uncovered things not hotel gave news, opposed random pickpocketing problem barcelona working hard resolve n't want lose tourists affects barcelonins treated crime quite seriously appeared inside job.all incredibly sad disappointing frustrating experience, hotel reacted affected things great deal stand proper felt free actually tour sights incident knowing working hard recover loss instead feeling insecure victimized.this hotel clearly not ready guests opened security properly established, cctv cameras helpful not entrance affixed terrace building, night area hopping wee hours c. tallers hotel located brightly lit deter muggings 4 star hotels corner.one receptionists said hotel overpriced 3 star hotel paying location newness minimalist style hotel, said walks 40 euros pocket.there wealth good hotel rooms apt stay opportunities barcelona city fabulous encourage seek,</td>\n",
       "    </tr>\n",
       "    <tr>\n",
       "      <th>20490</th>\n",
       "      <td>2</td>\n",
       "      <td>people talking, ca n't believe excellent ratings hotel, just n't, yes patricia extremely helpful fluent languages goes way make welcome, said place bit dump, inexpensive hotel expensive city place bit dated institutional odor charm funeral home, walking steps hotel girlfriend step condom yes condom steps, lots guys hanging desk hallway, girlfriend swears house prostitution, patricia did arrange taxi following morning stayed night did wrong information cost fare, rooms clean large bathroom small, passable night glad leave following morning not recommend extended stay unless tight budget n't care look feel place,</td>\n",
       "    </tr>\n",
       "  </tbody>\n",
       "</table>\n",
       "<p>20491 rows × 2 columns</p>\n",
       "</div>"
      ],
      "text/plain": [
       "       Rating  \\\n",
       "0           4   \n",
       "1           2   \n",
       "2           3   \n",
       "3           5   \n",
       "4           5   \n",
       "...       ...   \n",
       "20486       5   \n",
       "20487       4   \n",
       "20488       2   \n",
       "20489       1   \n",
       "20490       2   \n",
       "\n",
       "                                                                                                                                                                                                                                                                                                                                                                                                                                                                                                                                                                                                                                                                                                                                                                                                                                                                                                                                                                                                                                                                                                                                                                                                                                                                                                                                                                                                                                                                                                                                                                                                                                                                                                                                                                                                                                                                                                                                                                                                                                                                                                                                                                                                                                                                                                                                                                                                                                                                                                                                                                                                                                                                                                                                                                                                                                                                                                                                                                                                                                                                                                                                                                                                                                                                                                                                                                                                                                                                                                                                                                                                                                                                                                                                                                                                                                                                                                                                                                                                                                                                                                                                                                                                                                                                                                                                                                                                                                                                                                                                                                                                                                                                                                                                                                                                                                                                                                                                                                                                                                                                                                                                                                                                                                                                                                                                                                                                                                                                                                                                                                                                                                                                                                                                                                                   Reviews  \n",
       "0                                                                                                                                                                                                                                                                                                                                                                                                                                                                                                                                                                                                                                                                                                                                                                                                                                                                                                                                                                                                                                                                                                                                                                                                                                                                                                                                                                                                                                                                                                                                                                                                                                                                                                                                                                                                                                                                                                                                                                                                                                                                                                                                                                                                                                                                                                                                                                                                                                                                                                                                                                                                                                                                                                                                                                                                                                                                                                                                                                                                                                                                                                                                                                                                                                                                                                                                                                                                                                                                                                                                                                                                                                                                                                                                                                                                                                                                                                                                                                                                                                                                                                                                                                                                                                                                                                                                                                                                                                                                                                                                                                                                                                                                                                                                                                                                                                                                                                                                                                                                                                                                                                                                                                          nice hotel expensive parking got good deal stay hotel anniversary, arrived late evening took advice previous reviews did valet parking, check quick easy, little disappointed non-existent view room room clean nice size, bed comfortable woke stiff neck high pillows, not soundproof like heard music room night morning loud bangs doors opening closing hear people talking hallway, maybe just noisy neighbors, aveda bath products nice, did not goldfish stay nice touch taken advantage staying longer, location great walking distance shopping, overall nice experience having pay 40 parking night,  \n",
       "1                                                                                                                                                                                                                                                                                                                                                                                                                                                                                                                                                                                                                                                                                                                                                                                                                                                                                                                                                                                                                                                                                                                                                                                                                                                                                                                                                                                                                                                                                                                                                                                                                                                                                                                                                                                                                                                                                                                                                                                                                                                                                                                                                                                                                                                                                                                                                                                                                                                                                                                                                                                                                                                                                                                                                                                                                                                                                                                                                                                                                                                                                                                                                                                                                                                                                                                                                                                                                                                                                                                                                                                                                                                                                                                                                                                                                                                                                                                                                                                                                                  ok nothing special charge diamond member hilton decided chain shot 20th anniversary seattle, start booked suite paid extra website description not, suite bedroom bathroom standard hotel room, took printed reservation desk showed said things like tv couch ect desk clerk told oh mixed suites description kimpton website sorry free breakfast, got kidding, embassy suits sitting room bathroom bedroom unlike kimpton calls suite, 5 day stay offer correct false advertising, send kimpton preferred guest website email asking failure provide suite advertised website reservation description furnished hard copy reservation printout website desk manager duty did not reply solution, send email trip guest survey did not follow email mail, guess tell concerned guest.the staff ranged indifferent not helpful, asked desk good breakfast spots neighborhood hood told no hotels, gee best breakfast spots seattle 1/2 block away convenient hotel does not know exist, arrived late night 11 pm inside run bellman busy chating cell phone help bags.prior arrival emailed hotel inform 20th anniversary half really picky wanted make sure good, got nice email saying like deliver bottle champagne chocolate covered strawberries room arrival celebrate, told needed foam pillows, arrival no champagne strawberries no foam pillows great room view alley high rise building good not better housekeeping staff cleaner room property, impressed left morning shopping room got short trips 2 hours, beds comfortable.not good ac-heat control 4 x 4 inch screen bring green shine directly eyes night, light sensitive tape controls.this not 4 start hotel clean business hotel super high rates, better chain hotels seattle,  \n",
       "2                                                                                                                                                                                                                                                                                                                                                                                                                                                                                                                                                                                                                                                                                                                                                                                                                                                                                                                                                                                                                                                                                                                                                                                                                                                                                                                                                                                                                                                                                                                                                                                                                                                                                                                                                                                                                                                                                                                                                                                                                                                                                                                                                                                                                                                                                                                                                                                                                                                                                                                                                                                                                                                                                                                                                                                                                                                                                                                                                                                                                                                                                                                                                                                                                                                                                                                                                                                                                                                                                                                                                                                                                                                                                                                                                                                                                                                                                                                                                                                                                                                                                                                                                                                                                                                                                                        nice rooms not 4* experience hotel monaco seattle good hotel n't 4* level.positives large bathroom mediterranean suite comfortable bed pillowsattentive housekeeping staffnegatives ac unit malfunctioned stay desk disorganized, missed 3 separate wakeup calls, concierge busy hard touch, did n't provide guidance special requests.tv hard use ipod sound dock suite non functioning. decided book mediterranean suite 3 night weekend stay 1st choice rest party filled, comparison w spent 45 night larger square footage room great soaking tub whirlpool jets nice shower.before stay hotel arrange car service price 53 tip reasonable driver waiting arrival.checkin easy downside room picked 2 person jacuzi tub no bath accessories salts bubble bath did n't stay, night got 12/1a checked voucher bottle champagne nice gesture fish waiting room, impression room huge open space felt room big, tv far away bed chore change channel, ipod dock broken disappointing.in morning way asked desk check thermostat said 65f 74 2 degrees warm try cover face night bright blue light kept, got room night no, 1st drop desk, called maintainence came look thermostat told play settings happy digital box wo n't work, asked wakeup 10am morning did n't happen, called later 6pm nap wakeup forgot, 10am wakeup morning yep forgotten.the bathroom facilities great room surprised room sold whirlpool bath tub n't bath amenities, great relax water jets going,  \n",
       "3                                                                                                                                                                                                                                                                                                                                                                                                                                                                                                                                                                                                                                                                                                                                                                                                                                                                                                                                                                                                                                                                                                                                                                                                                                                                                                                                                                                                                                                                                                                                                                                                                                                                                                                                                                                                                                                                                                                                                                                                                                                                                                                                                                                                                                                                                                                                                                                                                                                                                                                                                                                                                                                                                                                                                                                                                                                                                                                                                                                                                                                                                                                                                                                                                                                                                                                                                                                                                                                                                                                                                                                                                                                                                                                                                                                                                                                                                                                                                                                                                                                                                                                                                                                                                                                                                                                                                                                                                                                                                                                                                                                                                                                                                                                                                                                                                                                                                                                                                                                                                                                                                                                                                                   unique, great stay, wonderful time hotel monaco, location excellent short stroll main downtown shopping area, pet friendly room showed no signs animal hair smells, monaco suite sleeping area big striped curtains pulled closed nice touch felt cosy, goldfish named brandi enjoyed, did n't partake free wine coffee/tea service lobby thought great feature, great staff friendly, free wireless internet hotel worked suite 2 laptops, decor lovely eclectic mix pattens color palatte, animal print bathrobes feel like rock stars, nice did n't look like sterile chain hotel hotel personality excellent stay,  \n",
       "4                                                                                                                                                                                                                                                                                                                                                                                                                                                                                                                                                                                                                                                                                                                                                                                                                                                                                                                                                                                                                                                                                                                                                                                                                                                                                                                                                                                                                                                                                                                                                                                                                                                                                                                                                                                                                                                                                                                                                                                                                                                                                                                                                                                                                                                                                                                                                                                                                                                                                                                                                                                                                                                                                                                                                                                                                                                                                                                                                                                                                                                                                                                                                                                                                                                                                                                                                                                                                                                                                                                                                                                                                                                                                                                                                                                                                                                                                                                                                                                                                                                                                                                                                                                                                                                                                                                                                                                                                                                          great stay great stay, went seahawk game awesome, downfall view building did n't complain, room huge staff helpful, booked hotels website seahawk package, no charge parking got voucher taxi, problem taxi driver did n't want accept voucher barely spoke english, funny thing speak arabic called started making comments girlfriend cell phone buddy, took second realize just said fact speak language face priceless, ass told, said large city, told head doorman issue called cab company promply answer did n't, apologized offered pay taxi, bucks 2 miles stadium, game plan taxi return going humpin, great walk did n't mind, right christmas wonderful lights, homeless stowed away building entrances leave, police presence not greatest area stadium, activities 7 blocks pike street waterfront great coffee shops way, hotel mantained foyer awesome, wine tasting available evening, best dog, taking st. bernard time family, safes hotel located service desk room, bathroom huge jetted tub huge, funny house keeping walked girlfriend getting dressed, did n't hear knock doing turn service, screamed girlfriend screams hit floor laughing, started talking spanish worked, place recommend price, check online deals just good not better, besite contains deals vouchers travel websites n't tell,  \n",
       "...                                                                                                                                                                                                                                                                                                                                                                                                                                                                                                                                                                                                                                                                                                                                                                                                                                                                                                                                                                                                                                                                                                                                                                                                                                                                                                                                                                                                                                                                                                                                                                                                                                                                                                                                                                                                                                                                                                                                                                                                                                                                                                                                                                                                                                                                                                                                                                                                                                                                                                                                                                                                                                                                                                                                                                                                                                                                                                                                                                                                                                                                                                                                                                                                                                                                                                                                                                                                                                                                                                                                                                                                                                                                                                                                                                                                                                                                                                                                                                                                                                                                                                                                                                                                                                                                                                                                                                                                                                                                                                                                                                                                                                                                                                                                                                                                                                                                                                                                                                                                                                                                                                                                                                                                                                                                                                                                                                                                                                                                                                                                                                                                                                                                                                                                                                                    ...  \n",
       "20486                                                                                                                                                                                                                                                                                                                                                                                                                                                                                                                                                                                                                                                                                                                                                                                                                                                                                                                                                                                                                                                                                                                                                                                                                                                                                                                                                                                                                                                                                                                                                                                                                                                                                                                                                                                                                                                                                                                                                                                                                                                                                                                                                                                                                                                                                                                                                                                                                                                                                                                                                                                                                                                                                                                                                                                                                                                                                                                                                                                                                                                                                                                                                                                                                                                                                                                                                                                                                                                                                                                                                                                                                                                                                                                                                                                                                                                                                                                                                                                                                                                                                                                                                                                                                                                                                                                                                                                                                                                                                                                                                                                                                                                                                                                                                                                                                                                                                                                                                                                                                          best kept secret 3rd time staying charm, not 5-star ca n't beat, time stayed increased esteem, bw caters business crowd stayed leisure usually weekend, rate perfect, clean green request available drop-dead view space needle practically street, ask check-in make sure, mere walk belltown 5 short blocks choices restaurants wine spirits bars younger folks clubs live music pubs jazz clubs weather permits nice hoof pike, n't usual bw complimentary continental breakfast buffet b/c rates lower splurge breakfast room service, parking free lower locked parking cameras felt cool leaving shopping finds great shopping city discretely tucked away suv, check money not long best kept secret status longer, kudos staff management property,  \n",
       "20487                                                                                                                                                                                                                                                                                                                                                                                                                                                                                                                                                                                                                                                                                                                                                                                                                                                                                                                                                                                                                                                                                                                                                                                                                                                                                                                                                                                                                                                                                                                                                                                                                                                                                                                                                                                                                                                                                                                                                                                                                                                                                                                                                                                                                                                                                                                                                                                                                                                                                                                                                                                                                                                                                                                                                                                                                                                                                                                                                                                                                                                                                                                                                                                                                                                                                                                                                                                                                                                                                                                                                                                                                                                                                                                                                                                                                                                                                                                                                                                                                                                                                                                                                                                                                                                                                                                                                                                                                                                                                                                                                                                                                                                                                                                                                                                                                                                                                                                                                                                                                                                                                                                                                                                                                                                                                                                                                                                                                                                                     great location price view hotel great quick place sights.directly street space needle downtown tram science center downtown mall.amenities nice indoor pool kids secure underground parking garage great restaurant.rooms great size couples families.recommend hotel visiting like tostay downtown near sights,  \n",
       "20488                                                                                                                                                                                                                                                                                                                                                                                                                                                                                                                                                                                                                                                                                                                                                                                                                                                                                                                                                                                                                                                                                                                                                                                                                                                                                                                                                                                                                                                                                                                                                                                                                                                                                                                                                                                                                                                                                                                                                                                                                                                                                                                                                                                                                                                                                                                                                                                                                                                                                                                                                                                                                                                                                                                                                                                                                                                                                                                                                                                                                                                                                                                                                                                                                                                                                                                                                                                                                                                                                                                                                                                                                                                                                                                                                                                                                                                                                                                                                                                                                                                                                                                                                                                                                                                                                                                                                                                                                                                                                                                                                                                                                                                                                                                                                                                                                                                                                                                                                                                                                                                                                                                                                                                                                                                                                                                            ok just looks nice modern outside, desk staff n't particularly friendly, corridors dark smelt steam cleaned carpet maybe good thing, hotel right space needle thrilling pulled mins walk away, unfortunately room rear view buildings parking lot, rooms space needle view.there no hotel laundry suprising larger hotel.hotel restaurant mistakes menu ordering new guy think numerous items left tray room service breakfast, phone promptly delivered,  \n",
       "20489  hotel theft ruined vacation hotel opened sept 17 2007 guests week, happy stumble scouting hotels apt stay booked gobcn- commented post unexpectedly cancelled arrival stuck place stay la merce festival barcelona biggest year, like trying hotel times square new year eve, vacancies hotel 1. new 2. not ready guests, new, hotel towels straight factory not washed pilling shower, not ready, entire week sept 21 28 slept proper blanket comforter n't arrived, got chilly night gave fleece throw supplied sister hotel ciutat barcelona hotel lime green colour scheme red black white spare cold, drawback double beds singles adjoined n't bothered hotels linens separately fish sheets order sleep couple fall lie middle, beds hard firm so-so quality foam pillows, best qualities hotel location close las ramblas hear street noise somewhat walkable attractions bari gottic, designed clean stylish hotel not clean 10 rooms construction things like cement drippings not scraped linoleum floor room etc., importantly room safe not securely bolted floor.i travel cash coming korea unfavorable exchange rate preferred not use canadian visa card unsure korean credit cards work overseas turns did husband did n't, carried moneybelt time life like heard barcelona petty theft problems witnessing mass humanity las ramblas wallet separated person blink eye, saw hotel safe stored money explicitly advised hotel security briefing form given guests check-in use hotel safe not leave valuable objects large cash room, no central safe reception meant use safe room, day stay discovered contents hotel room safe missing, n't open lock code n't working, receptionist came master code unlocked safe gone, 1,700 euros husband passport missing, incredibly shocked shaken, hours police report investigation staff fingerprinted room brushed fingerprints, later discovered guest fake belgian passport invalid credit card adjoining room broken terrace not room room room steal bag day prior, came room unbolted shelving safe bolted dragged shelf safe room dragged shelf safe, switched safes, used rolling carry-on bag stole room carry safe, talk ingenious crime.we suffered not theft aftermath primarily dealing hotel manager manages ciutat barcelona hotel not elusive refused meet person accessible telephone staff evasive compensated, end says expedited insurance process euros returned finally day departure barcelona going venice weekend waiting usually 2 month-long process grateful not compensate costs recovering passport husband nationality korean going consulate barcelona discover honorary does n't issue passports informed embassy madrid new temporary passport traveled madrid train day 9 hour+ return trip wasted day insurance cover stolen money said.after theft shaken no energy appetite tour sights wanted gaudi buildings park guell forever teenager planned months trip husband week year notoriously short korean vacations managed link weekends time vacation time particularly precious squeezed day, belongings felt secure hotel thereafter.they gave cheque compensating lost euros signing document spanish indemnified claims, did n't want sign document said n't cheque, needed cash point basically blackmailed signing document.to add insult injury checking informed hotel payable robbery thing hotel, balked offered 25 reduction, refused threatened police not paying hotel, unbelievable, think hotel extremely apologetic offer no charge stay night 3 days trip absolutely ruined, told gladly paid entirety hotel trip went just planned incident caused hotel negligence lack security flimsy locks not checking guests properly not informing guests room theft completely marred stay barcelona, said pay room theft occurred compensated costs recovering husband passport, reiterated insurance covered lost money n't true usually insurance cover entire contents no, guests stolen bag surely receive reimbursement insurance company, plan pursue hotel wonder vain real stickler did n't responsibility liability n't fault guest, unlucky., end plane catch paid nights robbery gladly left hotel.incredibly attests petty crime problem barcelona absolutely beautiful city hotel guest room got bag stolen restaurant chair eating dinner, shaken accompanied police station file report, returned hotel n't fixed phone connection needed contact family boyfriend germany appeared unsympathetic, problems wi-fi connection, theft staff fine save manager professional apologetic theft, manager offered weakest apology night occured hard-line meant lot met face face, minimum heartfelt apology opinion.in mossos d'esquadra barcelona police young undercover vigilant excellent thorough impressive, got story theft bit bit uncovered things not hotel gave news, opposed random pickpocketing problem barcelona working hard resolve n't want lose tourists affects barcelonins treated crime quite seriously appeared inside job.all incredibly sad disappointing frustrating experience, hotel reacted affected things great deal stand proper felt free actually tour sights incident knowing working hard recover loss instead feeling insecure victimized.this hotel clearly not ready guests opened security properly established, cctv cameras helpful not entrance affixed terrace building, night area hopping wee hours c. tallers hotel located brightly lit deter muggings 4 star hotels corner.one receptionists said hotel overpriced 3 star hotel paying location newness minimalist style hotel, said walks 40 euros pocket.there wealth good hotel rooms apt stay opportunities barcelona city fabulous encourage seek,  \n",
       "20490                                                                                                                                                                                                                                                                                                                                                                                                                                                                                                                                                                                                                                                                                                                                                                                                                                                                                                                                                                                                                                                                                                                                                                                                                                                                                                                                                                                                                                                                                                                                                                                                                                                                                                                                                                                                                                                                                                                                                                                                                                                                                                                                                                                                                                                                                                                                                                                                                                                                                                                                                                                                                                                                                                                                                                                                                                                                                                                                                                                                                                                                                                                                                                                                                                                                                                                                                                                                                                                                                                                                                                                                                                                                                                                                                                                                                                                                                                                                                                                                                                                                                                                                                                                                                                                                                                                                                                                                                                                                                                                                                                                                                                                                                                                                                                                                                                                                                                                                                                                                                                                                                                                                           people talking, ca n't believe excellent ratings hotel, just n't, yes patricia extremely helpful fluent languages goes way make welcome, said place bit dump, inexpensive hotel expensive city place bit dated institutional odor charm funeral home, walking steps hotel girlfriend step condom yes condom steps, lots guys hanging desk hallway, girlfriend swears house prostitution, patricia did arrange taxi following morning stayed night did wrong information cost fare, rooms clean large bathroom small, passable night glad leave following morning not recommend extended stay unless tight budget n't care look feel place,  \n",
       "\n",
       "[20491 rows x 2 columns]"
      ]
     },
     "execution_count": 8,
     "metadata": {},
     "output_type": "execute_result"
    }
   ],
   "source": [
    "pd.set_option(\"display.max_colwidth\", None)\n",
    "data"
   ]
  },
  {
   "cell_type": "code",
   "execution_count": 9,
   "id": "4cfbc268",
   "metadata": {},
   "outputs": [
    {
     "data": {
      "text/plain": [
       "Text(0.5, 1.0, 'Quantity of Reviews per ratings')"
      ]
     },
     "execution_count": 9,
     "metadata": {},
     "output_type": "execute_result"
    },
    {
     "data": {
      "image/png": "[encoded data removed]",
      "text/plain": [
       "<Figure size 432x288 with 1 Axes>"
      ]
     },
     "metadata": {
      "needs_background": "light"
     },
     "output_type": "display_data"
    }
   ],
   "source": [
    "data['Rating'].hist(bins=10, grid=False)\n",
    "plt.title('Quantity of Reviews per ratings')"
   ]
  },
  {
   "cell_type": "markdown",
   "id": "722a28ce",
   "metadata": {},
   "source": [
    "Here we can see the distribution of reviews per rating."
   ]
  },
  {
   "cell_type": "code",
   "execution_count": 10,
   "id": "1c05ec9b",
   "metadata": {},
   "outputs": [
    {
     "data": {
      "text/plain": [
       "'nice hotel expensive parking got good deal stay hotel anniversary, arrived late evening took advice previous reviews did valet parking, check quick easy, little disappointed non-existent view room room clean nice size, bed comfortable woke stiff neck high pillows, not soundproof like heard music room night morning loud bangs doors opening closing hear people talking hallway, maybe just noisy neighbors, aveda bath products nice, did not goldfish stay nice touch taken advantage staying longer, location great walking distance shopping, overall nice experience having pay 40 parking night,'"
      ]
     },
     "execution_count": 10,
     "metadata": {},
     "output_type": "execute_result"
    }
   ],
   "source": [
    "data = data[\"Reviews\"]\n",
    "test_data = data.head(500)\n",
    "test_data[0]"
   ]
  },
  {
   "cell_type": "code",
   "execution_count": 11,
   "id": "53adb869",
   "metadata": {},
   "outputs": [
    {
     "data": {
      "text/plain": [
       "'nice hotel expensive parking got good deal stay hotel anniversary, arrived late evening took advice previous review did valet parking, check quick easy, little disappointed non-existent view room room clean nice size, bed comfortable woke stiff neck high pillows, not soundproof like heard music room night morning loud bang door opening closing hear people talking hallway, maybe just noisy neighbors, aveda bath product nice, did not goldfish stay nice touch taken advantage staying longer, location great walking distance shopping, overall nice experience having pay 40 parking night,'"
      ]
     },
     "execution_count": 11,
     "metadata": {},
     "output_type": "execute_result"
    }
   ],
   "source": [
    "from nltk.stem import WordNetLemmatizer\n",
    "wm = WordNetLemmatizer()\n",
    "import re\n",
    "lemm = []\n",
    "for i in range(0,len(test_data)):\n",
    "    review = re.sub(\"\\.\\.+\", \". \", test_data[i])\n",
    "    review = review.lower()\n",
    "    words_list = [wm.lemmatize(word) for word in review.split()]\n",
    "    review = \" \".join(words_list)\n",
    "    lemm.append(review)\n",
    "\n",
    "lemm[0]\n"
   ]
  },
  {
   "cell_type": "code",
   "execution_count": 12,
   "id": "11aa50cb",
   "metadata": {},
   "outputs": [
    {
     "data": {
      "text/plain": [
       "'nice hotel expensive parking got good deal stay hotel anniversary, arrived late evening took advice previous review did valet parking, check quick easy, little disappointed non-existent view room room clean nice size, bed comfortable woke stiff neck high pillows, not soundproof like heard music room night morning loud bang door opening closing hear people talking hallway, maybe just noisy neighbors, aveda bath product nice, did not goldfish stay nice touch taken advantage staying longer, location great walking distance shopping, overall nice experience having pay 40 parking night,'"
      ]
     },
     "execution_count": 12,
     "metadata": {},
     "output_type": "execute_result"
    }
   ],
   "source": [
    "import spacy\n",
    "nlp = spacy.load(\"en_core_web_sm\")\n",
    "reviews = []\n",
    "for i in lemm:\n",
    "    tagged = nlp(i)\n",
    "    for x in tagged.sents:\n",
    "        reviews.append((str(x)))\n",
    "\n",
    "reviews[0]"
   ]
  },
  {
   "cell_type": "code",
   "execution_count": 13,
   "id": "b5066383",
   "metadata": {},
   "outputs": [
    {
     "data": {
      "text/plain": [
       "nice hotel expensive parking got good deal stay hotel anniversary"
      ]
     },
     "execution_count": 13,
     "metadata": {},
     "output_type": "execute_result"
    }
   ],
   "source": [
    "reviews1 = []\n",
    "for x in reviews:\n",
    "    text = x.split(\", \")\n",
    "    for i in text:\n",
    "        reviews1.append(i)\n",
    "\n",
    "reviews_tagged = []\n",
    "for x in reviews1:\n",
    "    tagged = nlp(x)\n",
    "    reviews_tagged.append(tagged)\n",
    "\n",
    "reviews_tagged[0]\n"
   ]
  },
  {
   "cell_type": "code",
   "execution_count": 15,
   "id": "6b2b8eb4",
   "metadata": {},
   "outputs": [
    {
     "data": {
      "text/plain": [
       "['nice hotel expensive parking got good deal stay hotel anniversary',\n",
       " ['parking', 'deal'],\n",
       " 'Positive']"
      ]
     },
     "execution_count": 15,
     "metadata": {},
     "output_type": "execute_result"
    }
   ],
   "source": [
    "sentiments = []\n",
    "sia = SentimentIntensityAnalyzer()\n",
    "for i,x in enumerate(reviews_tagged):\n",
    "    polarity_dict = sia.polarity_scores(str(x))\n",
    "\n",
    "    if polarity_dict[\"compound\"] == 0:\n",
    "        sentiments.append([str(x), [token.text for token in x if token.pos_ == \"NOUN\" and (token.dep_ == \"nsubj\" or token.dep_ == \"ROOT\")], \"Neutral\"])\n",
    "\n",
    "    elif polarity_dict[\"compound\"] > 0:\n",
    "        sentiments.append([str(x),[token.text for token in x if token.pos_ == \"NOUN\" and (token.dep_ == \"nsubj\" or token.dep_ == \"ROOT\")],\"Positive\"])\n",
    "\n",
    "    else:\n",
    "        sentiments.append([str(x),[token.text for token in x if token.pos_ == \"NOUN\" and (token.dep_ == \"nsubj\" or token.dep_ == \"ROOT\")],\"Negative\"])\n",
    "\n",
    "sentiments[0]\n"
   ]
  },
  {
   "cell_type": "code",
   "execution_count": 16,
   "id": "c540af52",
   "metadata": {},
   "outputs": [],
   "source": [
    "data = pd.DataFrame(sentiments, columns = [\"Text\", \"Aspect\", \"Sentiment\"])"
   ]
  },
  {
   "cell_type": "code",
   "execution_count": 17,
   "id": "1477e7af",
   "metadata": {},
   "outputs": [
    {
     "data": {
      "text/html": [
       "<div>\n",
       "<style scoped>\n",
       "    .dataframe tbody tr th:only-of-type {\n",
       "        vertical-align: middle;\n",
       "    }\n",
       "\n",
       "    .dataframe tbody tr th {\n",
       "        vertical-align: top;\n",
       "    }\n",
       "\n",
       "    .dataframe thead th {\n",
       "        text-align: right;\n",
       "    }\n",
       "</style>\n",
       "<table border=\"1\" class=\"dataframe\">\n",
       "  <thead>\n",
       "    <tr style=\"text-align: right;\">\n",
       "      <th></th>\n",
       "      <th>Text</th>\n",
       "      <th>Aspect</th>\n",
       "      <th>Sentiment</th>\n",
       "    </tr>\n",
       "  </thead>\n",
       "  <tbody>\n",
       "    <tr>\n",
       "      <th>0</th>\n",
       "      <td>nice hotel expensive parking got good deal stay hotel anniversary</td>\n",
       "      <td>[parking, deal]</td>\n",
       "      <td>Positive</td>\n",
       "    </tr>\n",
       "    <tr>\n",
       "      <th>1</th>\n",
       "      <td>arrived late evening took advice previous review did valet parking</td>\n",
       "      <td>[]</td>\n",
       "      <td>Neutral</td>\n",
       "    </tr>\n",
       "    <tr>\n",
       "      <th>2</th>\n",
       "      <td>check quick easy</td>\n",
       "      <td>[]</td>\n",
       "      <td>Positive</td>\n",
       "    </tr>\n",
       "    <tr>\n",
       "      <th>3</th>\n",
       "      <td>little disappointed non-existent view room room clean nice size</td>\n",
       "      <td>[room]</td>\n",
       "      <td>Positive</td>\n",
       "    </tr>\n",
       "    <tr>\n",
       "      <th>4</th>\n",
       "      <td>bed comfortable woke stiff neck high pillows</td>\n",
       "      <td>[bed]</td>\n",
       "      <td>Positive</td>\n",
       "    </tr>\n",
       "    <tr>\n",
       "      <th>...</th>\n",
       "      <td>...</td>\n",
       "      <td>...</td>\n",
       "      <td>...</td>\n",
       "    </tr>\n",
       "    <tr>\n",
       "      <th>5268</th>\n",
       "      <td>feather product housekeeping staff prompt bringing replacement feather bed.good room coffee,</td>\n",
       "      <td>[prompt]</td>\n",
       "      <td>Neutral</td>\n",
       "    </tr>\n",
       "    <tr>\n",
       "      <th>5269</th>\n",
       "      <td>outstanding luxurious accommodation including huge room extraordinarily comfortable mattress pillows</td>\n",
       "      <td>[accommodation]</td>\n",
       "      <td>Positive</td>\n",
       "    </tr>\n",
       "    <tr>\n",
       "      <th>5270</th>\n",
       "      <td>bathroom incredible jacuzzi tub seperate shower 2 vanity plush robe granite marble</td>\n",
       "      <td>[shower]</td>\n",
       "      <td>Negative</td>\n",
       "    </tr>\n",
       "    <tr>\n",
       "      <th>5271</th>\n",
       "      <td>great location flying seattle plan visiting mt</td>\n",
       "      <td>[location]</td>\n",
       "      <td>Positive</td>\n",
       "    </tr>\n",
       "    <tr>\n",
       "      <th>5272</th>\n",
       "      <td>ranier,</td>\n",
       "      <td>[]</td>\n",
       "      <td>Neutral</td>\n",
       "    </tr>\n",
       "  </tbody>\n",
       "</table>\n",
       "<p>5273 rows × 3 columns</p>\n",
       "</div>"
      ],
      "text/plain": [
       "                                                                                                      Text  \\\n",
       "0                                        nice hotel expensive parking got good deal stay hotel anniversary   \n",
       "1                                       arrived late evening took advice previous review did valet parking   \n",
       "2                                                                                         check quick easy   \n",
       "3                                          little disappointed non-existent view room room clean nice size   \n",
       "4                                                             bed comfortable woke stiff neck high pillows   \n",
       "...                                                                                                    ...   \n",
       "5268          feather product housekeeping staff prompt bringing replacement feather bed.good room coffee,   \n",
       "5269  outstanding luxurious accommodation including huge room extraordinarily comfortable mattress pillows   \n",
       "5270                    bathroom incredible jacuzzi tub seperate shower 2 vanity plush robe granite marble   \n",
       "5271                                                        great location flying seattle plan visiting mt   \n",
       "5272                                                                                               ranier,   \n",
       "\n",
       "               Aspect Sentiment  \n",
       "0     [parking, deal]  Positive  \n",
       "1                  []   Neutral  \n",
       "2                  []  Positive  \n",
       "3              [room]  Positive  \n",
       "4               [bed]  Positive  \n",
       "...               ...       ...  \n",
       "5268         [prompt]   Neutral  \n",
       "5269  [accommodation]  Positive  \n",
       "5270         [shower]  Negative  \n",
       "5271       [location]  Positive  \n",
       "5272               []   Neutral  \n",
       "\n",
       "[5273 rows x 3 columns]"
      ]
     },
     "execution_count": 17,
     "metadata": {},
     "output_type": "execute_result"
    }
   ],
   "source": [
    "data"
   ]
  },
  {
   "cell_type": "markdown",
   "id": "72f0df21",
   "metadata": {},
   "source": [
    "Dropping rows with empty list"
   ]
  },
  {
   "cell_type": "code",
   "execution_count": 18,
   "id": "7e228d61",
   "metadata": {},
   "outputs": [
    {
     "data": {
      "text/html": [
       "<div>\n",
       "<style scoped>\n",
       "    .dataframe tbody tr th:only-of-type {\n",
       "        vertical-align: middle;\n",
       "    }\n",
       "\n",
       "    .dataframe tbody tr th {\n",
       "        vertical-align: top;\n",
       "    }\n",
       "\n",
       "    .dataframe thead th {\n",
       "        text-align: right;\n",
       "    }\n",
       "</style>\n",
       "<table border=\"1\" class=\"dataframe\">\n",
       "  <thead>\n",
       "    <tr style=\"text-align: right;\">\n",
       "      <th></th>\n",
       "      <th>Text</th>\n",
       "      <th>Aspect</th>\n",
       "      <th>Sentiment</th>\n",
       "    </tr>\n",
       "  </thead>\n",
       "  <tbody>\n",
       "    <tr>\n",
       "      <th>0</th>\n",
       "      <td>nice hotel expensive parking got good deal stay hotel anniversary</td>\n",
       "      <td>[parking, deal]</td>\n",
       "      <td>Positive</td>\n",
       "    </tr>\n",
       "    <tr>\n",
       "      <th>3</th>\n",
       "      <td>little disappointed non-existent view room room clean nice size</td>\n",
       "      <td>[room]</td>\n",
       "      <td>Positive</td>\n",
       "    </tr>\n",
       "    <tr>\n",
       "      <th>4</th>\n",
       "      <td>bed comfortable woke stiff neck high pillows</td>\n",
       "      <td>[bed]</td>\n",
       "      <td>Positive</td>\n",
       "    </tr>\n",
       "    <tr>\n",
       "      <th>5</th>\n",
       "      <td>not soundproof like heard music room night morning loud bang door opening closing hear people talking hallway</td>\n",
       "      <td>[people]</td>\n",
       "      <td>Negative</td>\n",
       "    </tr>\n",
       "    <tr>\n",
       "      <th>6</th>\n",
       "      <td>maybe just noisy neighbors</td>\n",
       "      <td>[neighbors]</td>\n",
       "      <td>Negative</td>\n",
       "    </tr>\n",
       "    <tr>\n",
       "      <th>7</th>\n",
       "      <td>aveda bath product nice</td>\n",
       "      <td>[product]</td>\n",
       "      <td>Positive</td>\n",
       "    </tr>\n",
       "    <tr>\n",
       "      <th>9</th>\n",
       "      <td>location great walking distance shopping</td>\n",
       "      <td>[shopping]</td>\n",
       "      <td>Positive</td>\n",
       "    </tr>\n",
       "    <tr>\n",
       "      <th>10</th>\n",
       "      <td>overall nice experience having pay 40 parking night,</td>\n",
       "      <td>[experience]</td>\n",
       "      <td>Positive</td>\n",
       "    </tr>\n",
       "    <tr>\n",
       "      <th>11</th>\n",
       "      <td>ok nothing special charge diamond member hilton decided chain shot 20th anniversary seattle</td>\n",
       "      <td>[chain]</td>\n",
       "      <td>Negative</td>\n",
       "    </tr>\n",
       "    <tr>\n",
       "      <th>12</th>\n",
       "      <td>start booked suite paid extra website description not</td>\n",
       "      <td>[suite]</td>\n",
       "      <td>Neutral</td>\n",
       "    </tr>\n",
       "  </tbody>\n",
       "</table>\n",
       "</div>"
      ],
      "text/plain": [
       "                                                                                                             Text  \\\n",
       "0                                               nice hotel expensive parking got good deal stay hotel anniversary   \n",
       "3                                                 little disappointed non-existent view room room clean nice size   \n",
       "4                                                                    bed comfortable woke stiff neck high pillows   \n",
       "5   not soundproof like heard music room night morning loud bang door opening closing hear people talking hallway   \n",
       "6                                                                                      maybe just noisy neighbors   \n",
       "7                                                                                         aveda bath product nice   \n",
       "9                                                                        location great walking distance shopping   \n",
       "10                                                           overall nice experience having pay 40 parking night,   \n",
       "11                    ok nothing special charge diamond member hilton decided chain shot 20th anniversary seattle   \n",
       "12                                                          start booked suite paid extra website description not   \n",
       "\n",
       "             Aspect Sentiment  \n",
       "0   [parking, deal]  Positive  \n",
       "3            [room]  Positive  \n",
       "4             [bed]  Positive  \n",
       "5          [people]  Negative  \n",
       "6       [neighbors]  Negative  \n",
       "7         [product]  Positive  \n",
       "9        [shopping]  Positive  \n",
       "10     [experience]  Positive  \n",
       "11          [chain]  Negative  \n",
       "12          [suite]   Neutral  "
      ]
     },
     "execution_count": 18,
     "metadata": {},
     "output_type": "execute_result"
    }
   ],
   "source": [
    "index = []\n",
    "for i in range(len(data)):\n",
    "    if data[\"Aspect\"][i] == []:\n",
    "        index.append(i)\n",
    "\n",
    "data = data.drop(index, axis = 0)\n",
    "data.head(10)\n"
   ]
  },
  {
   "cell_type": "code",
   "execution_count": null,
   "id": "ac407834",
   "metadata": {},
   "outputs": [],
   "source": []
  }
 ],
 "metadata": {
  "kernelspec": {
   "display_name": "Python 3 (ipykernel)",
   "language": "python",
   "name": "python3"
  },
  "language_info": {
   "codemirror_mode": {
    "name": "ipython",
    "version": 3
   },
   "file_extension": ".py",
   "mimetype": "text/x-python",
   "name": "python",
   "nbconvert_exporter": "python",
   "pygments_lexer": "ipython3",
   "version": "3.9.12"
  }
 },
 "nbformat": 4,
 "nbformat_minor": 5
}
